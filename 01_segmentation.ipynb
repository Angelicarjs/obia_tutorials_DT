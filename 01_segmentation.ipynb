{
 "cells": [
  {
   "attachments": {},
   "cell_type": "markdown",
   "metadata": {},
   "source": [
    "## Introduction"
   ]
  },
  {
   "attachments": {},
   "cell_type": "markdown",
   "metadata": {},
   "source": [
    "The first step in conducting object-based image analysis (OBIA) is to create some segments, i.e....\n",
    "* definition segments/objects\n",
    "* difference segments/objects\n",
    "* relevance of objects as real-world-entities\n",
    "    * modelling of reality in adequate manner -> relevant for downstream tasks \n",
    "        * reducing salt-pepper-effects in classifications due to spatial contiguity\n",
    "        * enabling other cv tasks such as object counting\n",
    "    * enabling to leverage variety of feature descriptors -> expressivity\n",
    "    * reducing number of observations for further processing -> performance/speed-up"
   ]
  },
  {
   "attachments": {},
   "cell_type": "markdown",
   "metadata": {},
   "source": [
    "## Exemplary data"
   ]
  },
  {
   "attachments": {},
   "cell_type": "markdown",
   "metadata": {},
   "source": [
    "For demonstration purposes, we will use a 4-band R,G,B,NIR image segmented with SLIC."
   ]
  },
  {
   "cell_type": "code",
   "execution_count": 1,
   "metadata": {},
   "outputs": [],
   "source": [
    "# to run this on google colab\n",
    "if 'google.colab' in str(get_ipython()):\n",
    "    repo_dir = \"obia_tutorials\"\n",
    "    marker_file = os.path.join(repo_dir, \".setup_done\")    \n",
    "    if not os.path.exists(marker_file):\n",
    "        !git clone https://github.com/fkroeber/obia_tutorials.git\n",
    "        !pip install -r obia_tutorials/requirements.txt\n",
    "        with open(marker_file, 'w') as f:\n",
    "            f.write(\"Setup completed\")\n",
    "    if not os.getcwd().endswith(repo_dir):\n",
    "        os.chdir(repo_dir)"
   ]
  },
  {
   "cell_type": "markdown",
   "metadata": {},
   "source": [
    "## Conclusion & Further thoughts"
   ]
  },
  {
   "cell_type": "markdown",
   "metadata": {},
   "source": [
    "* variety of techniques that can be sorted according to method (threshold-based, watershed-based, graph-based, etc)\n",
    "* practical considerations for choosing a segmentation algorithm\n",
    "    * parametrisation (unsupervised vs. supervised, control over number of shapes, etc)\n",
    "    * characteristics of segmentation result (regular/irregular shapes)\n",
    "    * performance"
   ]
  }
 ],
 "metadata": {
  "kernelspec": {
   "display_name": "obia_tutorials",
   "language": "python",
   "name": "python3"
  },
  "language_info": {
   "codemirror_mode": {
    "name": "ipython",
    "version": 3
   },
   "file_extension": ".py",
   "mimetype": "text/x-python",
   "name": "python",
   "nbconvert_exporter": "python",
   "pygments_lexer": "ipython3",
   "version": "3.10.1"
  },
  "orig_nbformat": 4,
  "vscode": {
   "interpreter": {
    "hash": "03ca474701badda27714bc2f8463045a15615715ede98ee8a907c42ed944622a"
   }
  }
 },
 "nbformat": 4,
 "nbformat_minor": 2
}
